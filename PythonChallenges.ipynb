{
  "cells": [
    {
      "cell_type": "markdown",
      "metadata": {
        "id": "view-in-github",
        "colab_type": "text"
      },
      "source": [
        "<a href=\"https://colab.research.google.com/github/nikolabogucka/18.08/blob/main/PythonChallenges.ipynb\" target=\"_parent\"><img src=\"https://colab.research.google.com/assets/colab-badge.svg\" alt=\"Open In Colab\"/></a>"
      ]
    },
    {
      "cell_type": "markdown",
      "metadata": {
        "id": "U5i5hj1nMpW1"
      },
      "source": [
        "# 1. Reverse a string\n",
        "\n",
        "Write a function that takes a string and input and returns the exact string in reverse."
      ]
    },
    {
      "cell_type": "code",
      "execution_count": null,
      "metadata": {
        "id": "AaMqi4hGMpW2"
      },
      "outputs": [],
      "source": [
        "def reverse_string(string):\n",
        "    # TODO: Reverse string\n",
        "    return None"
      ]
    },
    {
      "cell_type": "code",
      "execution_count": null,
      "metadata": {
        "id": "ymjDZfV0MpW4",
        "outputId": "211f54b8-4cac-486e-f207-951884b89f86"
      },
      "outputs": [
        {
          "name": "stdout",
          "output_type": "stream",
          "text": [
            "Fail\n"
          ]
        }
      ],
      "source": [
        "# Reverse string tests\n",
        "if (reverse_string('Test') == 'tseT' and\n",
        "    reverse_string('Hello, world!') == '!dlrow ,olleH' and\n",
        "    reverse_string('Test') == 'tseT'):\n",
        "    print ('Success')\n",
        "else:\n",
        "    print ('Fail')"
      ]
    },
    {
      "cell_type": "markdown",
      "metadata": {
        "id": "0cwBCdB4MpW6"
      },
      "source": [
        "# 2. Convert string to appropriate type\n",
        "\n",
        "Write a function that converts a string to either an int or a float, depending on if it has a decimal point. It should return 0 for invalid input.\n",
        "\n",
        "E.g.\n",
        "\n",
        "    convert('1.5') -> 1.5\n",
        "    convert('780') -> 780"
      ]
    },
    {
      "cell_type": "code",
      "execution_count": null,
      "metadata": {
        "id": "CACvkr4KMpW7"
      },
      "outputs": [],
      "source": [
        "def convert(string):\n",
        "    # TODO: Convert to appropriate type\n",
        "    return None"
      ]
    },
    {
      "cell_type": "code",
      "execution_count": null,
      "metadata": {
        "id": "r5QIdZLvMpW8",
        "outputId": "5670153c-fc48-4228-8134-66fad1b15f7e"
      },
      "outputs": [
        {
          "name": "stdout",
          "output_type": "stream",
          "text": [
            "Fail\n"
          ]
        }
      ],
      "source": [
        "# Convert tests\n",
        "if (convert('1.5') == 1.5 and\n",
        "    convert('780') == 780 and\n",
        "    convert('pupper') == 0 and\n",
        "    convert('-28.07') == -28.07):\n",
        "    print ('Success')\n",
        "else:\n",
        "    print ('Fail')"
      ]
    },
    {
      "cell_type": "markdown",
      "metadata": {
        "id": "IXlnvN7VMpW-"
      },
      "source": [
        "# 3. What can I afford?\n",
        "\n",
        "Write a function that takes a dictionary of shopping items with their associated cost, and a float (your budget), and return a dictionary with the items you can afford with the given budget. Maximise the number of items to be bought."
      ]
    },
    {
      "cell_type": "code",
      "execution_count": null,
      "metadata": {
        "id": "Dbdy9twpMpW-"
      },
      "outputs": [],
      "source": [
        "def afford(shopping_items, budget):\n",
        "    # TODO: Get most items for given budget\n",
        "    return None"
      ]
    },
    {
      "cell_type": "code",
      "execution_count": null,
      "metadata": {
        "id": "jOkqelx4MpXA"
      },
      "outputs": [],
      "source": [
        "# Afford tests\n",
        "afford1 = {\n",
        "    'ketchup': 1.69,\n",
        "    'crisps multipack': 3.50,\n",
        "    'beer': 3.99,\n",
        "    'bread': 0.99,\n",
        "    'salad': 1.20,\n",
        "    'beans': 0.8\n",
        "}\n",
        "afford1_result = {\n",
        "    'ketchup': 1.69,\n",
        "    'crisps multipack': 3.50,\n",
        "    'bread': 0.99,\n",
        "    'salad': 1.20,\n",
        "    'beans': 0.8\n",
        "}\n",
        "budget1 = 10.0\n",
        "\n",
        "afford2 = {\n",
        "    'birthday card': 2.99,\n",
        "    'makeup': 8.00,\n",
        "    'charms': 75.00\n",
        "}\n",
        "afford2_result = {\n",
        "    'birthday card': 2.99,\n",
        "    'makeup': 8.00,\n",
        "    'charms': 75.00\n",
        "}\n",
        "budget2 = 99.99\n",
        "\n",
        "afford3 = {\n",
        "    'tv': 349.0,\n",
        "    'ps4': 280.0,\n",
        "    'sound bar': 99.0,\n",
        "    'games': 100.0,\n",
        "    'accessories': 49.0\n",
        "}\n",
        "afford3_result = {\n",
        "    'sound bar': 99.0,\n",
        "    'games': 100.0,\n",
        "    'accessories': 49.0\n",
        "}\n",
        "budget3 = 500.0\n",
        "\n",
        "if (afford(afford1, budget1) == afford1_result and\n",
        "    afford(afford2, budget2) == afford2_result and\n",
        "    afford(afford3, budget3) == afford3_result):\n",
        "    print ('Success')\n",
        "else:\n",
        "    print ('Fail')"
      ]
    },
    {
      "cell_type": "markdown",
      "metadata": {
        "id": "ars3phJYMpXC"
      },
      "source": [
        "# 4. Sin and Cos graph\n",
        "\n",
        "Create a graph using matplotlib that plots both a Sin and Cos wave from x = 0 to x = 10. It should look something like this:\n",
        "\n",
        "![Sin and Cos plotted](waves.png)\n",
        "\n",
        "Note: Numpy might come in handy!\n"
      ]
    },
    {
      "cell_type": "code",
      "execution_count": null,
      "metadata": {
        "id": "8U8I6G0RMpXC"
      },
      "outputs": [],
      "source": [
        "%matplotlib inline\n",
        "import matplotlib.pyplot as plt\n",
        "# TODO: Finish graph code"
      ]
    },
    {
      "cell_type": "markdown",
      "metadata": {
        "id": "S2WNF7iM36QD"
      },
      "source": [
        "# 5. Pandas Challenges\n"
      ]
    },
    {
      "cell_type": "markdown",
      "metadata": {
        "id": "k9jzps1l36QD"
      },
      "source": [
        "In this section, you can find your own datasets here -> https://www.kaggle.com/datasets or can use the iris dataset import plotly.express as px\n",
        "px.data.iris()\n",
        "\n",
        "First test, how do i import pandas?"
      ]
    },
    {
      "cell_type": "code",
      "execution_count": null,
      "metadata": {
        "id": "x8PDhIGs36QD"
      },
      "outputs": [],
      "source": []
    },
    {
      "cell_type": "markdown",
      "metadata": {
        "id": "USJTVQZ936QD"
      },
      "source": [
        " Display most common value in a given series and replace everything other value as 'Other' in the series"
      ]
    },
    {
      "cell_type": "code",
      "execution_count": null,
      "metadata": {
        "id": "BUY2wUKD36QD"
      },
      "outputs": [],
      "source": []
    },
    {
      "cell_type": "markdown",
      "metadata": {
        "id": "Ya5ZH4JO36QD"
      },
      "source": [
        "How to import only every nth row from a csv file to create a dataframe?"
      ]
    },
    {
      "cell_type": "code",
      "execution_count": null,
      "metadata": {
        "id": "KzULxMjq36QD"
      },
      "outputs": [],
      "source": []
    },
    {
      "cell_type": "markdown",
      "metadata": {
        "id": "difn51cT36QD"
      },
      "source": [
        "How to create a dataframe with rows as strides from a given series?"
      ]
    },
    {
      "cell_type": "code",
      "execution_count": null,
      "metadata": {
        "id": "KNc9NIlx36QD"
      },
      "outputs": [],
      "source": []
    },
    {
      "cell_type": "markdown",
      "metadata": {
        "id": "Z2tZ531236QD"
      },
      "source": [
        "# 6. Numpy Challenges\n"
      ]
    },
    {
      "cell_type": "markdown",
      "metadata": {
        "id": "ehNvjQuX36QE"
      },
      "source": [
        "Create a three-dimension array with shape (12,8,4) and set to a variable"
      ]
    },
    {
      "cell_type": "code",
      "execution_count": null,
      "metadata": {
        "id": "uJPSXc8B36QE"
      },
      "outputs": [],
      "source": []
    },
    {
      "cell_type": "markdown",
      "metadata": {
        "id": "v3PKVzrT36QE"
      },
      "source": [
        "Get the minimum and maximum value of a given array along the second axis\n",
        "\n",
        "[[10 40]\n",
        "[30 20]]"
      ]
    },
    {
      "cell_type": "code",
      "execution_count": null,
      "metadata": {
        "id": "cAsWfRpr36QE"
      },
      "outputs": [],
      "source": []
    },
    {
      "cell_type": "markdown",
      "metadata": {
        "id": "5Pwu232R36QE"
      },
      "source": [
        "Write a NumPy program to check whether each element of a given array is composed of digits only, lower case letters only and upper case letters only\n",
        "['Python' 'Kainos' 'Kain0s' 'Examples' 'html5' '100']"
      ]
    },
    {
      "cell_type": "code",
      "execution_count": null,
      "metadata": {
        "id": "-t6QdODK36QE"
      },
      "outputs": [],
      "source": []
    }
  ],
  "metadata": {
    "colab": {
      "provenance": [],
      "toc_visible": true,
      "include_colab_link": true
    },
    "interpreter": {
      "hash": "aee8b7b246df8f9039afb4144a1f6fd8d2ca17a180786b69acc140d282b71a49"
    },
    "kernelspec": {
      "display_name": "Python 3.9.12 64-bit",
      "language": "python",
      "name": "python3"
    },
    "language_info": {
      "codemirror_mode": {
        "name": "ipython",
        "version": 3
      },
      "file_extension": ".py",
      "mimetype": "text/x-python",
      "name": "python",
      "nbconvert_exporter": "python",
      "pygments_lexer": "ipython3",
      "version": "3.9.12"
    }
  },
  "nbformat": 4,
  "nbformat_minor": 0
}